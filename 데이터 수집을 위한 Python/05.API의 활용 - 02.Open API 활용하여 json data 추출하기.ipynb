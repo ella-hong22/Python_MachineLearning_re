{
 "cells": [
  {
   "cell_type": "markdown",
   "metadata": {},
   "source": [
    "### 학습목표\n",
    " 1. OPEN API 사용하여 데이터 획득하기"
   ]
  },
  {
   "cell_type": "markdown",
   "metadata": {},
   "source": [
    "#### 공공데이터 포털 OPEN API 사용하기\n",
    "1. 공공데이터 포털 회원가입/로그인(https://www.data.go.kr/)\n",
    "2. API 사용 요청 / 키 발급\n",
    "3. API 문서(specification) 확인\n",
    "4. API 테스트 및 개발"
   ]
  },
  {
   "cell_type": "code",
   "execution_count": null,
   "metadata": {},
   "outputs": [],
   "source": []
  },
  {
   "cell_type": "markdown",
   "metadata": {},
   "source": [
    "#### Endpoint 확인하기\n",
    " - API가 서비스되는 서버의 IP 혹은 domain 주소"
   ]
  },
  {
   "cell_type": "code",
   "execution_count": 2,
   "metadata": {},
   "outputs": [],
   "source": [
    "serviceKey = 'EMYt4XO%2FKqxrqEXOu7UgWyGvpKtuqUrHdXSnOnPmR1ja5%2F84b3wq9irV0t2ENSFG5jRIPPFgVlbPJA6%2BKvoMUg%3D%3D'"
   ]
  },
  {
   "cell_type": "code",
   "execution_count": 4,
   "metadata": {},
   "outputs": [
    {
     "name": "stdout",
     "output_type": "stream",
     "text": [
      "http://apis.data.go.kr/B553077/api/open/sdsc/storeZoneOne?key=상권번호&ServiceKey=EMYt4XO%2FKqxrqEXOu7UgWyGvpKtuqUrHdXSnOnPmR1ja5%2F84b3wq9irV0t2ENSFG5jRIPPFgVlbPJA6%2BKvoMUg%3D%3D&type=json\n"
     ]
    }
   ],
   "source": [
    "endpoint = 'http://apis.data.go.kr/B553077/api/open/sdsc/storeZoneOne?key=상권번호&ServiceKey={}&type=json'.format(serviceKey)\n",
    "print(endpoint)"
   ]
  },
  {
   "cell_type": "code",
   "execution_count": 5,
   "metadata": {},
   "outputs": [
    {
     "name": "stdout",
     "output_type": "stream",
     "text": [
      "http://apis.data.go.kr/B553077/api/open/sdsc/storeZoneInAdmi?divId=adongCd&key=1168069000&ServiceKey=EMYt4XO%2FKqxrqEXOu7UgWyGvpKtuqUrHdXSnOnPmR1ja5%2F84b3wq9irV0t2ENSFG5jRIPPFgVlbPJA6%2BKvoMUg%3D%3D&type=json\n"
     ]
    }
   ],
   "source": [
    "#건물단위 상권 조회 \n",
    "endpoint = 'http://apis.data.go.kr/B553077/api/open/sdsc/storeZoneInAdmi?divId=adongCd&key=1168069000&ServiceKey={}&type=json'.format(serviceKey)\n",
    "print(endpoint)"
   ]
  },
  {
   "cell_type": "markdown",
   "metadata": {},
   "source": [
    "#### key 값 확인하기\n",
    " - 서비스 호출 트래킹할 목적이나 악의적인 사용을 금지할 목적으로 주로 사용\n",
    " - 새로 발급받은 키는 1시간 이후 사용 가능"
   ]
  },
  {
   "cell_type": "code",
   "execution_count": null,
   "metadata": {},
   "outputs": [],
   "source": [
    "serviceKey = 'EMYt4XO%2FKqxrqEXOu7UgWyGvpKtuqUrHdXSnOnPmR1ja5%2F84b3wq9irV0t2ENSFG5jRIPPFgVlbPJA6%2BKvoMUg%3D%3D'"
   ]
  },
  {
   "cell_type": "markdown",
   "metadata": {},
   "source": [
    "#### Parameter 확인하기\n",
    " - API 호출에 필요한 parameter 값 확인 및 구성"
   ]
  },
  {
   "cell_type": "code",
   "execution_count": null,
   "metadata": {},
   "outputs": [],
   "source": [
    "endpoint = 'http://apis.data.go.kr/B553077/api/open/sdsc/storeZoneInAdmi?divId=adongCd&key=1168069000&ServiceKey={}&type=json'.format(serviceKey)\n"
   ]
  },
  {
   "cell_type": "markdown",
   "metadata": {},
   "source": [
    "#### 요청 및 Response 확인\n",
    " - requests 모듈을 활용하여 API 호출\n",
    " - response 확인하여 원하는 정보 추출\n",
    " - json 데이터의 경우, python dictionary로 변경하여 사용가능"
   ]
  },
  {
   "cell_type": "code",
   "execution_count": null,
   "metadata": {},
   "outputs": [],
   "source": []
  }
 ],
 "metadata": {
  "kernelspec": {
   "display_name": "Python 3",
   "language": "python",
   "name": "python3"
  },
  "language_info": {
   "codemirror_mode": {
    "name": "ipython",
    "version": 3
   },
   "file_extension": ".py",
   "mimetype": "text/x-python",
   "name": "python",
   "nbconvert_exporter": "python",
   "pygments_lexer": "ipython3",
   "version": "3.7.1"
  }
 },
 "nbformat": 4,
 "nbformat_minor": 2
}
